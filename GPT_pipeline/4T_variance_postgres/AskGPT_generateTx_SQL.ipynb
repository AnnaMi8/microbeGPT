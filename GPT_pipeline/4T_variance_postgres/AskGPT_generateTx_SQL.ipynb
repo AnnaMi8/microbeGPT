{
 "cells": [
  {
   "cell_type": "code",
   "execution_count": 9,
   "id": "6a67e333-8795-4fc3-9140-a52c2f66ffee",
   "metadata": {},
   "outputs": [],
   "source": [
    "import argparse\n",
    "from openai import AzureOpenAI\n",
    "import openai\n",
    "import os\n",
    "\n",
    "current_directory = os.path.dirname(os.path.abspath(\"__file__\"))\n",
    "os.chdir(current_directory)"
   ]
  },
  {
   "cell_type": "code",
   "execution_count": 10,
   "id": "805a4476-ade7-46a7-a62d-84272b3c2256",
   "metadata": {},
   "outputs": [],
   "source": [
    "client = AzureOpenAI(\n",
    "    api_version=\"2023-05-15\",\n",
    "     azure_endpoint=\"\", # path to azure endpoint\n",
    "    api_key=\"\" # replace with API_key\n",
    ")"
   ]
  },
  {
   "cell_type": "code",
   "execution_count": 11,
   "id": "c947aa02-f36a-40d5-91e2-172f7eb4b57c",
   "metadata": {},
   "outputs": [],
   "source": [
    "def generate_prompt(question, prompt_file, metadata_file):\n",
    "    \"\"\"\n",
    "    Generates a customized prompt by replacing placeholders in a template with actual data.\n",
    "\n",
    "    Args:\n",
    "        question (str): The user's question to be included in the prompt.\n",
    "        prompt_file (str): Path to a file containing a template prompt with placeholders.\n",
    "        metadata_file (str): Path to a file containing metadata (e.g., database table information).\n",
    "\n",
    "    Returns:\n",
    "        str: The generated prompt with placeholders replaced by actual data.\n",
    "    \"\"\"\n",
    "    with open(prompt_file, \"r\") as f:\n",
    "        prompt = f.read()\n",
    "    \n",
    "    with open(metadata_file, \"r\") as f:\n",
    "        table_metadata_string = f.read()\n",
    "        \n",
    "\n",
    "    prompt = prompt.format(\n",
    "        user_question=question, table_metadata_string=table_metadata_string)\n",
    "    \n",
    "    return prompt"
   ]
  },
  {
   "cell_type": "code",
   "execution_count": 12,
   "id": "a9c10d04-0e36-4f93-a61f-758cd53fde05",
   "metadata": {},
   "outputs": [],
   "source": [
    "def SQL_query_generation(question, prompt_file, metadata_file, temp):\n",
    "    \"\"\"\n",
    "    Generates an SQL query response based on a user question and template prompts.\n",
    "\n",
    "    Args:\n",
    "        question (str): The user's question or query.\n",
    "        prompt_file (str): Path to a file containing template prompts for OpenAI.\n",
    "        metadata_file (str): Path to a file containing relevant metadata (e.g., table information).\n",
    "        temp (float): Temperature parameter for controlling response randomness.\n",
    "\n",
    "    Returns:\n",
    "        str: The generated SQL query response.\n",
    "    \"\"\"    \n",
    "    prompt = generate_prompt(question, prompt_file , metadata_file)\n",
    "    try:\n",
    "        sys_prompt = prompt.split(\"### Input:\")[0]\n",
    "        user_prompt = prompt.split(\"### Input:\")[1].split(\"### Response:\")[0]\n",
    "        assistant_prompt = prompt.split(\"### Response:\")[1]\n",
    "    except:\n",
    "        raise ValueError(\"Invalid prompt file. Please use prompt_openai.md\")\n",
    "  \n",
    "    messages = []\n",
    "    messages.append({\"role\": \"system\", \"content\": sys_prompt})\n",
    "    messages.append({\"role\": \"user\", \"content\": user_prompt})\n",
    "    messages.append({\"role\": \"assistant\", \"content\": assistant_prompt})\n",
    "\n",
    "    response = client.chat.completions.create(\n",
    "        model=\"chat\",\n",
    "        messages=messages,\n",
    "        temperature = temp\n",
    "    )\n",
    "\n",
    "    return response.model_dump()[\"choices\"][0][\"message\"][\"content\"]"
   ]
  },
  {
   "cell_type": "code",
   "execution_count": 13,
   "id": "1ec64b1c-6c1d-44fa-bcd0-132eb3d90b36",
   "metadata": {},
   "outputs": [],
   "source": [
    "#define file pathways\n",
    "questions_input = '../GPT_pipeline/questions.txt'\n",
    "prompt_file = '../GPT_pipeline/postgreSQL_database_assessment/post_prompt_baseline.md'\n",
    "metadata_file = '../GPT_pipeline/postgreSQL_database_assessment/post_metadata_baseline.sql'\n",
    "\n",
    "with open(questions_input, 'r') as f:\n",
    "    questions = f.read().split('\\n')"
   ]
  },
  {
   "cell_type": "code",
   "execution_count": 8,
   "id": "a3079ffb-5003-41e3-a082-693ee1cb50c1",
   "metadata": {
    "tags": []
   },
   "outputs": [
    {
     "name": "stdout",
     "output_type": "stream",
     "text": [
      "File 'C:/Users/aamt/Documents/openAI/3T_variance_postgres/T0/q1_T0.txt' created with 10 variations of question 1.\n",
      "File 'C:/Users/aamt/Documents/openAI/3T_variance_postgres/T0/q2_T0.txt' created with 10 variations of question 2.\n",
      "File 'C:/Users/aamt/Documents/openAI/3T_variance_postgres/T0/q3_T0.txt' created with 10 variations of question 3.\n",
      "File 'C:/Users/aamt/Documents/openAI/3T_variance_postgres/T0/q4_T0.txt' created with 10 variations of question 4.\n",
      "File 'C:/Users/aamt/Documents/openAI/3T_variance_postgres/T0/q5_T0.txt' created with 10 variations of question 5.\n",
      "File 'C:/Users/aamt/Documents/openAI/3T_variance_postgres/T0/q6_T0.txt' created with 10 variations of question 6.\n",
      "File 'C:/Users/aamt/Documents/openAI/3T_variance_postgres/T0/q7_T0.txt' created with 10 variations of question 7.\n",
      "File 'C:/Users/aamt/Documents/openAI/3T_variance_postgres/T0/q8_T0.txt' created with 10 variations of question 8.\n",
      "File 'C:/Users/aamt/Documents/openAI/3T_variance_postgres/T0/q9_T0.txt' created with 10 variations of question 9.\n",
      "File 'C:/Users/aamt/Documents/openAI/3T_variance_postgres/T0/q10_T0.txt' created with 10 variations of question 10.\n",
      "File 'C:/Users/aamt/Documents/openAI/3T_variance_postgres/T0/q11_T0.txt' created with 10 variations of question 11.\n",
      "File 'C:/Users/aamt/Documents/openAI/3T_variance_postgres/T0/q12_T0.txt' created with 10 variations of question 12.\n",
      "File 'C:/Users/aamt/Documents/openAI/3T_variance_postgres/T0/q13_T0.txt' created with 10 variations of question 13.\n",
      "File 'C:/Users/aamt/Documents/openAI/3T_variance_postgres/T0/q14_T0.txt' created with 10 variations of question 14.\n",
      "File 'C:/Users/aamt/Documents/openAI/3T_variance_postgres/T0/q15_T0.txt' created with 10 variations of question 15.\n",
      "File 'C:/Users/aamt/Documents/openAI/3T_variance_postgres/T0/q16_T0.txt' created with 10 variations of question 16.\n",
      "File 'C:/Users/aamt/Documents/openAI/3T_variance_postgres/T0/q17_T0.txt' created with 10 variations of question 17.\n",
      "File 'C:/Users/aamt/Documents/openAI/3T_variance_postgres/T0/q18_T0.txt' created with 10 variations of question 18.\n",
      "File 'C:/Users/aamt/Documents/openAI/3T_variance_postgres/T0/q19_T0.txt' created with 10 variations of question 19.\n",
      "File 'C:/Users/aamt/Documents/openAI/3T_variance_postgres/T0/q20_T0.txt' created with 10 variations of question 20.\n"
     ]
    }
   ],
   "source": [
    "# Loop over the questions, each 10 times, create a file per each question.\n",
    "\n",
    "# TEMPERATURE = 0\n",
    "for question_number, question in enumerate(questions, start=1):\n",
    "    filename = f\"../3T_variance_postgres/T0/q{question_number}_T0.txt\" # define output file pathway\n",
    "    with open(filename, \"w\") as file:\n",
    "        for i in range(10):\n",
    "            SQLcode = SQL_query_generation(question, prompt_file, metadata_file, temp= 0.0).split(\"```\")\n",
    "            SQLcode_to_save = SQLcode[0].strip()\n",
    "            if SQLcode_to_save[-1] == ';':\n",
    "                file.write(f\"{i+1}\\n{SQLcode_to_save}\\n\\n\")\n",
    "            else:\n",
    "                file.write(f\"{i+1}\\n{SQLcode_to_save};\\n\\n\")\n",
    "\n",
    "    print(f\"File '{filename}' created with 10 variations of question {question_number}.\")"
   ]
  },
  {
   "cell_type": "code",
   "execution_count": 14,
   "id": "87f3e9f8-df0a-400c-b805-c076cbae385e",
   "metadata": {
    "tags": []
   },
   "outputs": [
    {
     "name": "stdout",
     "output_type": "stream",
     "text": [
      "File 'C:/Users/aamt/Documents/openAI/3T_variance_postgres/T05/q1_T05.txt' created with 10 variations of question 1.\n",
      "File 'C:/Users/aamt/Documents/openAI/3T_variance_postgres/T05/q2_T05.txt' created with 10 variations of question 2.\n",
      "File 'C:/Users/aamt/Documents/openAI/3T_variance_postgres/T05/q3_T05.txt' created with 10 variations of question 3.\n",
      "File 'C:/Users/aamt/Documents/openAI/3T_variance_postgres/T05/q4_T05.txt' created with 10 variations of question 4.\n",
      "File 'C:/Users/aamt/Documents/openAI/3T_variance_postgres/T05/q5_T05.txt' created with 10 variations of question 5.\n",
      "File 'C:/Users/aamt/Documents/openAI/3T_variance_postgres/T05/q6_T05.txt' created with 10 variations of question 6.\n",
      "File 'C:/Users/aamt/Documents/openAI/3T_variance_postgres/T05/q7_T05.txt' created with 10 variations of question 7.\n",
      "File 'C:/Users/aamt/Documents/openAI/3T_variance_postgres/T05/q8_T05.txt' created with 10 variations of question 8.\n",
      "File 'C:/Users/aamt/Documents/openAI/3T_variance_postgres/T05/q9_T05.txt' created with 10 variations of question 9.\n",
      "File 'C:/Users/aamt/Documents/openAI/3T_variance_postgres/T05/q10_T05.txt' created with 10 variations of question 10.\n",
      "File 'C:/Users/aamt/Documents/openAI/3T_variance_postgres/T05/q11_T05.txt' created with 10 variations of question 11.\n",
      "File 'C:/Users/aamt/Documents/openAI/3T_variance_postgres/T05/q12_T05.txt' created with 10 variations of question 12.\n",
      "File 'C:/Users/aamt/Documents/openAI/3T_variance_postgres/T05/q13_T05.txt' created with 10 variations of question 13.\n",
      "File 'C:/Users/aamt/Documents/openAI/3T_variance_postgres/T05/q14_T05.txt' created with 10 variations of question 14.\n",
      "File 'C:/Users/aamt/Documents/openAI/3T_variance_postgres/T05/q15_T05.txt' created with 10 variations of question 15.\n",
      "File 'C:/Users/aamt/Documents/openAI/3T_variance_postgres/T05/q16_T05.txt' created with 10 variations of question 16.\n",
      "File 'C:/Users/aamt/Documents/openAI/3T_variance_postgres/T05/q17_T05.txt' created with 10 variations of question 17.\n",
      "File 'C:/Users/aamt/Documents/openAI/3T_variance_postgres/T05/q18_T05.txt' created with 10 variations of question 18.\n",
      "File 'C:/Users/aamt/Documents/openAI/3T_variance_postgres/T05/q19_T05.txt' created with 10 variations of question 19.\n",
      "File 'C:/Users/aamt/Documents/openAI/3T_variance_postgres/T05/q20_T05.txt' created with 10 variations of question 20.\n"
     ]
    }
   ],
   "source": [
    "# Loop over the questions, each 10 times, create a file per each question.\n",
    "\n",
    "# TEMPERATURE = 0.5\n",
    "for question_number, question in enumerate(questions, start=1):\n",
    "    filename = f\"../3T_variance_postgres/T05/q{question_number}_T05.txt\" # define output file pathway\n",
    "    with open(filename, \"w\") as file:\n",
    "        for i in range(10):\n",
    "            SQLcode = SQL_query_generation(question, prompt_file, metadata_file, temp= 0.5).split(\"```\")\n",
    "            SQLcode_to_save = SQLcode[0].strip()\n",
    "            if SQLcode_to_save[-1] == ';':\n",
    "                file.write(f\"{i+1}\\n{SQLcode_to_save}\\n\\n\")\n",
    "            else:\n",
    "                file.write(f\"{i+1}\\n{SQLcode_to_save};\\n\\n\")\n",
    "\n",
    "    print(f\"File '{filename}' created with 10 variations of question {question_number}.\")"
   ]
  },
  {
   "cell_type": "code",
   "execution_count": 15,
   "id": "2adfd41b-b83b-43fc-8482-be74cd71795f",
   "metadata": {
    "tags": []
   },
   "outputs": [
    {
     "name": "stdout",
     "output_type": "stream",
     "text": [
      "File 'C:/Users/aamt/Documents/openAI/3T_variance_postgres/T07/q1_T07.txt' created with 10 variations of question 1.\n",
      "File 'C:/Users/aamt/Documents/openAI/3T_variance_postgres/T07/q2_T07.txt' created with 10 variations of question 2.\n",
      "File 'C:/Users/aamt/Documents/openAI/3T_variance_postgres/T07/q3_T07.txt' created with 10 variations of question 3.\n",
      "File 'C:/Users/aamt/Documents/openAI/3T_variance_postgres/T07/q4_T07.txt' created with 10 variations of question 4.\n",
      "File 'C:/Users/aamt/Documents/openAI/3T_variance_postgres/T07/q5_T07.txt' created with 10 variations of question 5.\n",
      "File 'C:/Users/aamt/Documents/openAI/3T_variance_postgres/T07/q6_T07.txt' created with 10 variations of question 6.\n",
      "File 'C:/Users/aamt/Documents/openAI/3T_variance_postgres/T07/q7_T07.txt' created with 10 variations of question 7.\n",
      "File 'C:/Users/aamt/Documents/openAI/3T_variance_postgres/T07/q8_T07.txt' created with 10 variations of question 8.\n",
      "File 'C:/Users/aamt/Documents/openAI/3T_variance_postgres/T07/q9_T07.txt' created with 10 variations of question 9.\n",
      "File 'C:/Users/aamt/Documents/openAI/3T_variance_postgres/T07/q10_T07.txt' created with 10 variations of question 10.\n",
      "File 'C:/Users/aamt/Documents/openAI/3T_variance_postgres/T07/q11_T07.txt' created with 10 variations of question 11.\n",
      "File 'C:/Users/aamt/Documents/openAI/3T_variance_postgres/T07/q12_T07.txt' created with 10 variations of question 12.\n",
      "File 'C:/Users/aamt/Documents/openAI/3T_variance_postgres/T07/q13_T07.txt' created with 10 variations of question 13.\n",
      "File 'C:/Users/aamt/Documents/openAI/3T_variance_postgres/T07/q14_T07.txt' created with 10 variations of question 14.\n",
      "File 'C:/Users/aamt/Documents/openAI/3T_variance_postgres/T07/q15_T07.txt' created with 10 variations of question 15.\n",
      "File 'C:/Users/aamt/Documents/openAI/3T_variance_postgres/T07/q16_T07.txt' created with 10 variations of question 16.\n",
      "File 'C:/Users/aamt/Documents/openAI/3T_variance_postgres/T07/q17_T07.txt' created with 10 variations of question 17.\n",
      "File 'C:/Users/aamt/Documents/openAI/3T_variance_postgres/T07/q18_T07.txt' created with 10 variations of question 18.\n",
      "File 'C:/Users/aamt/Documents/openAI/3T_variance_postgres/T07/q19_T07.txt' created with 10 variations of question 19.\n",
      "File 'C:/Users/aamt/Documents/openAI/3T_variance_postgres/T07/q20_T07.txt' created with 10 variations of question 20.\n"
     ]
    }
   ],
   "source": [
    "# Loop over the questions, each 10 times, create a file per each question.\n",
    "\n",
    "# TEMPERATURE = 0.7\n",
    "for question_number, question in enumerate(questions, start=1):\n",
    "    filename = f\"../3T_variance_postgres/T07/q{question_number}_T07.txt\" # define output file pathway\n",
    "    with open(filename, \"w\") as file:\n",
    "        for i in range(10):\n",
    "            SQLcode = SQL_query_generation(question, prompt_file, metadata_file, temp= 0.7).split(\"```\")\n",
    "            SQLcode_to_save = SQLcode[0].strip()\n",
    "            if SQLcode_to_save[-1] == ';':\n",
    "                file.write(f\"{i+1}\\n{SQLcode_to_save}\\n\\n\")\n",
    "            else:\n",
    "                file.write(f\"{i+1}\\n{SQLcode_to_save};\\n\\n\")\n",
    "\n",
    "    print(f\"File '{filename}' created with 10 variations of question {question_number}.\")"
   ]
  },
  {
   "cell_type": "code",
   "execution_count": 16,
   "id": "ccd232fb-1cb8-496d-929b-0db09caed03f",
   "metadata": {},
   "outputs": [
    {
     "name": "stdout",
     "output_type": "stream",
     "text": [
      "File 'C:/Users/aamt/Documents/openAI/3T_variance_postgres/T1/q1_T1.txt' created with 10 variations of question 1.\n",
      "File 'C:/Users/aamt/Documents/openAI/3T_variance_postgres/T1/q2_T1.txt' created with 10 variations of question 2.\n",
      "File 'C:/Users/aamt/Documents/openAI/3T_variance_postgres/T1/q3_T1.txt' created with 10 variations of question 3.\n",
      "File 'C:/Users/aamt/Documents/openAI/3T_variance_postgres/T1/q4_T1.txt' created with 10 variations of question 4.\n",
      "File 'C:/Users/aamt/Documents/openAI/3T_variance_postgres/T1/q5_T1.txt' created with 10 variations of question 5.\n",
      "File 'C:/Users/aamt/Documents/openAI/3T_variance_postgres/T1/q6_T1.txt' created with 10 variations of question 6.\n",
      "File 'C:/Users/aamt/Documents/openAI/3T_variance_postgres/T1/q7_T1.txt' created with 10 variations of question 7.\n",
      "File 'C:/Users/aamt/Documents/openAI/3T_variance_postgres/T1/q8_T1.txt' created with 10 variations of question 8.\n",
      "File 'C:/Users/aamt/Documents/openAI/3T_variance_postgres/T1/q9_T1.txt' created with 10 variations of question 9.\n",
      "File 'C:/Users/aamt/Documents/openAI/3T_variance_postgres/T1/q10_T1.txt' created with 10 variations of question 10.\n",
      "File 'C:/Users/aamt/Documents/openAI/3T_variance_postgres/T1/q11_T1.txt' created with 10 variations of question 11.\n",
      "File 'C:/Users/aamt/Documents/openAI/3T_variance_postgres/T1/q12_T1.txt' created with 10 variations of question 12.\n",
      "File 'C:/Users/aamt/Documents/openAI/3T_variance_postgres/T1/q13_T1.txt' created with 10 variations of question 13.\n",
      "File 'C:/Users/aamt/Documents/openAI/3T_variance_postgres/T1/q14_T1.txt' created with 10 variations of question 14.\n",
      "File 'C:/Users/aamt/Documents/openAI/3T_variance_postgres/T1/q15_T1.txt' created with 10 variations of question 15.\n",
      "File 'C:/Users/aamt/Documents/openAI/3T_variance_postgres/T1/q16_T1.txt' created with 10 variations of question 16.\n",
      "File 'C:/Users/aamt/Documents/openAI/3T_variance_postgres/T1/q17_T1.txt' created with 10 variations of question 17.\n",
      "File 'C:/Users/aamt/Documents/openAI/3T_variance_postgres/T1/q18_T1.txt' created with 10 variations of question 18.\n",
      "File 'C:/Users/aamt/Documents/openAI/3T_variance_postgres/T1/q19_T1.txt' created with 10 variations of question 19.\n",
      "File 'C:/Users/aamt/Documents/openAI/3T_variance_postgres/T1/q20_T1.txt' created with 10 variations of question 20.\n"
     ]
    }
   ],
   "source": [
    "# Loop over the questions, each 10 times, create a file per each question.\n",
    "\n",
    "# TEMPERATURE = 1\n",
    "for question_number, question in enumerate(questions, start=1):\n",
    "    filename = f\"../3T_variance_postgres/T1/q{question_number}_T1.txt\" # define output file pathway\n",
    "    with open(filename, \"w\") as file:\n",
    "        for i in range(10):\n",
    "            SQLcode = SQL_query_generation(question, prompt_file, metadata_file, temp= 1).split(\"```\")\n",
    "            SQLcode_to_save = SQLcode[0].strip()\n",
    "            if SQLcode_to_save[-1] == ';':\n",
    "                file.write(f\"{i+1}\\n{SQLcode_to_save}\\n\\n\")\n",
    "            else:\n",
    "                file.write(f\"{i+1}\\n{SQLcode_to_save};\\n\\n\")\n",
    "\n",
    "    print(f\"File '{filename}' created with 10 variations of question {question_number}.\")"
   ]
  }
 ],
 "metadata": {
  "kernelspec": {
   "display_name": "Python 3 (ipykernel)",
   "language": "python",
   "name": "python3"
  },
  "language_info": {
   "codemirror_mode": {
    "name": "ipython",
    "version": 3
   },
   "file_extension": ".py",
   "mimetype": "text/x-python",
   "name": "python",
   "nbconvert_exporter": "python",
   "pygments_lexer": "ipython3",
   "version": "3.11.5"
  }
 },
 "nbformat": 4,
 "nbformat_minor": 5
}
