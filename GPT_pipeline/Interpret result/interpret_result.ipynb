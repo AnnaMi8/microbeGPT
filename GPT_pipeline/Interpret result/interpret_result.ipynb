{
 "cells": [
  {
   "cell_type": "code",
   "execution_count": 44,
   "id": "c4acaf6f-7164-4f21-ac3a-f983d170fab2",
   "metadata": {
    "tags": []
   },
   "outputs": [],
   "source": [
    "import argparse\n",
    "from openai import AzureOpenAI\n",
    "import openai\n",
    "import os\n",
    "\n",
    "current_directory = os.path.dirname(os.path.abspath(\"__file__\"))\n",
    "os.chdir(current_directory)"
   ]
  },
  {
   "cell_type": "code",
   "execution_count": 45,
   "id": "0b624e30-4213-42d3-ade0-401b3d2f0ba4",
   "metadata": {
    "tags": []
   },
   "outputs": [],
   "source": [
    "client = AzureOpenAI(\n",
    "    api_version=\"2023-05-15\",\n",
    "    azure_endpoint=\" \", # replace with azure endpoint\n",
    "    api_key=\"\", # replace with API key\n",
    ")"
   ]
  },
  {
   "cell_type": "code",
   "execution_count": 46,
   "id": "696b87a1-1834-4c54-97fc-485bc0048944",
   "metadata": {
    "tags": []
   },
   "outputs": [],
   "source": [
    "def generate_prompt(question, result, prompt_file):\n",
    "    with open(prompt_file, \"r\") as f:\n",
    "        prompt = f.read()       \n",
    "\n",
    "    prompt = prompt.format(\n",
    "        user_question=question, result = result)\n",
    "    \n",
    "    return prompt"
   ]
  },
  {
   "cell_type": "code",
   "execution_count": 47,
   "id": "4cc6df0b-e7e8-4feb-8c0e-cdea1a45da06",
   "metadata": {
    "tags": []
   },
   "outputs": [],
   "source": [
    "def Interpret_result(question, result, prompt_file):\n",
    "    \n",
    "    prompt = generate_prompt(question, result, prompt_file)\n",
    "    try:\n",
    "        sys_prompt = prompt.split(\"### Input:\")[0]\n",
    "        user_prompt = prompt.split(\"### Input:\")[1].split(\"### Response:\")[0]\n",
    "        #assistant_prompt = prompt.split(\"### Response:\")[1]\n",
    "    except:\n",
    "        raise ValueError(\"Invalid prompt file. Please use Interpret_result_prompt.md\")\n",
    "  \n",
    "    messages = []\n",
    "    messages.append({\"role\": \"system\", \"content\": sys_prompt})\n",
    "    messages.append({\"role\": \"user\", \"content\": user_prompt})\n",
    "\n",
    "    response = client.chat.completions.create(\n",
    "        model=\"chat\",\n",
    "        messages=messages,\n",
    "        temperature = 0.5\n",
    "    )\n",
    "\n",
    "    return response.model_dump()[\"choices\"][0][\"message\"][\"content\"]"
   ]
  },
  {
   "cell_type": "code",
   "execution_count": 49,
   "id": "0c5ad829-dff6-4e5a-ba2d-a0f27c3b4a5e",
   "metadata": {
    "tags": []
   },
   "outputs": [],
   "source": [
    "result_file= '..GPT_pipeline/postgreSQL_database_assessment/benchmarking_postgres_answers.txt'\n",
    "prompt_file = '../GPT_pipeline/postgreSQL_database_assessment/Interpret_result/Interpret_result_prompt.md'\n",
    "\n",
    "# save a question and its result from one of the benchmark questions asked to the database\n",
    "with open(result_file, 'r') as f:\n",
    "    result_string = f.read()\n",
    "    rows = result_string.split('\\n')\n",
    "    \n",
    "    \n",
    "    for i,row in enumerate(rows): \n",
    "        question = row.split('\\t')[0]\n",
    "        # result is the second element of the row\n",
    "        result = row.split('\\t')[2].replace('(','').replace(')','')\n",
    "        interpretation = Interpret_result(question, result, prompt_file)\n",
    "        with open('./interpreted_results.txt', 'a') as file:\n",
    "             file.write(f\"{i}\\t{interpretation.strip()}\\n\\n\")\n",
    "                \n",
    "                \n"
   ]
  },
  {
   "cell_type": "code",
   "execution_count": 21,
   "id": "be80b5ee-a7df-47bf-9a6e-fc3f569bfbad",
   "metadata": {},
   "outputs": [],
   "source": [
    "prompt = generate_prompt(question, result, prompt_file)"
   ]
  },
  {
   "cell_type": "code",
   "execution_count": 22,
   "id": "948759c3-abdf-424f-8fbe-dbbc7d689fff",
   "metadata": {
    "tags": []
   },
   "outputs": [
    {
     "data": {
      "text/plain": [
       "\"### Instructions:\\nYour task is to contextualize an answer regarding human microbiome and its numerical result with state of art knowledge.\\n\\n\\n### Input:\\nGiven this question: '2 What is the distribution(average level) of faecalibacterium prausnitzii in the database?' asked to a human microbiome database returning result 4.749735057239966,, provide comment. \\n\\n\\n\\n### Response:\\nGiven the question 2 What is the distribution(average level) of faecalibacterium prausnitzii in the database?, 4.749735057239966, is...\""
      ]
     },
     "execution_count": 22,
     "metadata": {},
     "output_type": "execute_result"
    }
   ],
   "source": [
    "prompt\n"
   ]
  }
 ],
 "metadata": {
  "kernelspec": {
   "display_name": "Python 3 (ipykernel)",
   "language": "python",
   "name": "python3"
  },
  "language_info": {
   "codemirror_mode": {
    "name": "ipython",
    "version": 3
   },
   "file_extension": ".py",
   "mimetype": "text/x-python",
   "name": "python",
   "nbconvert_exporter": "python",
   "pygments_lexer": "ipython3",
   "version": "3.11.5"
  }
 },
 "nbformat": 4,
 "nbformat_minor": 5
}
