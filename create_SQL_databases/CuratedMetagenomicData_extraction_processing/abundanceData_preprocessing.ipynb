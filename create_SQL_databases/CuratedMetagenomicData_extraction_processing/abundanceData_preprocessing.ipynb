{
 "cells": [
  {
   "cell_type": "code",
   "execution_count": 83,
   "id": "e46a1c42-5dd1-4048-ad22-8d51c0cf4ba4",
   "metadata": {
    "tags": []
   },
   "outputs": [],
   "source": [
    "import sqlite3\n",
    "import glob\n",
    "from Bio import SeqIO\n",
    "import gzip\n",
    "import os\n",
    "import pandas as pd"
   ]
  },
  {
   "cell_type": "markdown",
   "id": "7914c55c-7be7-4906-893b-7341cd319d6b",
   "metadata": {
    "tags": []
   },
   "source": [
    "# Process abundance table: pivot longer and save the file in txt file so uploading table in sql is quicker"
   ]
  },
  {
   "cell_type": "code",
   "execution_count": 101,
   "id": "c6bf7224-1864-451d-830e-497a21424825",
   "metadata": {
    "tags": []
   },
   "outputs": [],
   "source": [
    "# load as input file the abundance.txt file obtained from R script that extracts data from CuratedMetagenomicData package\n",
    "df = pd.read_csv('./create_SQL_databases/input_files/abundance.txt', delimiter='\\t')\n",
    "\n",
    "# pivot longer the dataset so every row is sample_id, species, taxa-string , OTU count for that species on that sample.\n",
    "abundance_long = pd.melt(df, id_vars=['taxa_string'], \n",
    "                         value_vars=df.columns.difference(['taxa_string']),\n",
    "                         var_name='sample_id', value_name='count')\n",
    "\n",
    "# add species column\n",
    "abundance_long['species'] = abundance_long['taxa_string'].str.rsplit('|', n=1).str[-1]\n",
    "\n",
    "# save df to CuratedAbundance file, this will be input file for all database creation scripts.\n",
    "abundance_long.to_csv(\".../CuratedAbundance.txt\", sep=\"\\t\", index=False)"
   ]
  }
 ],
 "metadata": {
  "kernelspec": {
   "display_name": "Python 3 (ipykernel)",
   "language": "python",
   "name": "python3"
  },
  "language_info": {
   "codemirror_mode": {
    "name": "ipython",
    "version": 3
   },
   "file_extension": ".py",
   "mimetype": "text/x-python",
   "name": "python",
   "nbconvert_exporter": "python",
   "pygments_lexer": "ipython3",
   "version": "3.11.5"
  }
 },
 "nbformat": 4,
 "nbformat_minor": 5
}
